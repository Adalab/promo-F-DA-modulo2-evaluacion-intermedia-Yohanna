{
 "cells": [
  {
   "cell_type": "code",
   "execution_count": 2,
   "metadata": {},
   "outputs": [
    {
     "name": "stdout",
     "output_type": "stream",
     "text": [
      "Requirement already satisfied: beautifulsoup4 in /opt/anaconda3/lib/python3.9/site-packages (4.10.0)\n",
      "Requirement already satisfied: soupsieve>1.2 in /opt/anaconda3/lib/python3.9/site-packages (from beautifulsoup4) (2.2.1)\n"
     ]
    }
   ],
   "source": [
    "!pip install beautifulsoup4"
   ]
  },
  {
   "cell_type": "code",
   "execution_count": 3,
   "metadata": {},
   "outputs": [],
   "source": [
    "# antes de empezar importamos las librerías que vamos a usar. \n",
    "# Importar librerías para web scraping y manipulación de datos\n",
    "# -----------------------------------------------------------------------\n",
    "from bs4 import BeautifulSoup\n",
    "import requests\n",
    "\n",
    "# Importar librerías para manipulación y análisis de datos\n",
    "# -----------------------------------------------------------------------\n",
    "import pandas as pd\n",
    "\n",
    "# Importar librerías para procesamiento de texto\n",
    "# -----------------------------------------------------------------------\n",
    "import re"
   ]
  },
  {
   "cell_type": "code",
   "execution_count": 4,
   "metadata": {},
   "outputs": [
    {
     "name": "stdout",
     "output_type": "stream",
     "text": [
      "La respuesta de la petición es: 200\n"
     ]
    }
   ],
   "source": [
    "# definimos la url de la página de la vamos a sacar datos\n",
    "url_turismo = \"https://turismoactiva.com/rutas-de-montana-sierra-de-gredos/\"\n",
    "\n",
    "# hacemos la request a la página de la que queremos sacar la info\n",
    "res_turismo = requests.get(url_turismo)\n",
    "\n",
    "# vemos si todo ha ido bien\n",
    "print(\"La respuesta de la petición es:\", res_turismo.status_code)"
   ]
  },
  {
   "cell_type": "code",
   "execution_count": null,
   "metadata": {},
   "outputs": [],
   "source": [
    "# creamos el objeto BeautifulSoup para poder acceder al contenido solicitado\n",
    "sopa_turismo = BeautifulSoup(res_turismo.content, 'html.parser')\n",
    "\n",
    "# mostramos por pantalla los resultados del objeto de Beautiful Soup. El método \".prettify()\" nos ayuda a visualizar los resultados de una forma más amigable\n",
    "print(sopa_turismo.prettify())"
   ]
  },
  {
   "cell_type": "code",
   "execution_count": 20,
   "metadata": {},
   "outputs": [
    {
     "data": {
      "text/plain": [
       "['Pico Morenzon',\n",
       " 'Pico de la Mira',\n",
       " 'Pico Almanzor',\n",
       " 'Laguna Grande',\n",
       " 'Cinco Lagunas',\n",
       " 'Circo de  Hoya Moros',\n",
       " 'Canchal Negro',\n",
       " 'El Calvitero',\n",
       " 'Canchal de la Ceja, Torreon, Calvitero',\n",
       " 'Laguna de Barco',\n",
       " 'Tres Lagunas, La Nava, Barco y Caballeros',\n",
       " 'Laguna de los Caballeros']"
      ]
     },
     "execution_count": 20,
     "metadata": {},
     "output_type": "execute_result"
    }
   ],
   "source": [
    "\n",
    "lista_nombre_rutas = sopa_turismo.find_all('h4', {'class':\"elementor-heading-title\"})\n",
    "\n",
    "nombre_rutas = []\n",
    "for i, rutas in enumerate(lista_nombre_rutas):\n",
    "    if i < 12:\n",
    "        texto_ruta = rutas.text\n",
    "        nombre_rutas.append(texto_ruta)\n",
    "nombre_rutas  \n"
   ]
  },
  {
   "cell_type": "code",
   "execution_count": 110,
   "metadata": {},
   "outputs": [
    {
     "data": {
      "text/plain": [
       "[' Sierra de Gredos, salida desde la Plataforma de Gredos. Sector Central',\n",
       " ' Sierra de Gredos, salida desde la Plataforma de Gredos. Sector Central',\n",
       " ' Sierra de Gredos, salida desde la Plataforma de Gredos. Sector Central',\n",
       " ' Sierra de Gredos, Plataforma de Gredos, sector central.',\n",
       " ' Sierra de Gredos, salida desde Navalperal del Tormes. Sector central.',\n",
       " ' Sierra de Bejar, salida desde la Plataforma del Travieso, sector occidental',\n",
       " ' Sierra de Béjar, salida desde la plataforma del travieso. Sector occidental.',\n",
       " ' Sierra de Gredos, aparcamiento carretera Nava de Barco. Sector Central.',\n",
       " '  Sierra de Gredos, aparcamiento carretera Nava de Barco. Sector Central.',\n",
       " ' Sierra de Gredos, salida desde Navalguijo Sector Central',\n",
       " ' Sierra de Gredos, salida desde la carretera de Nava de Barco. Sector Central']"
      ]
     },
     "execution_count": 110,
     "metadata": {},
     "output_type": "execute_result"
    }
   ],
   "source": [
    "info_ubicacion = sopa_turismo.find_all('div', {'class': \"elementor-widget-container\"})\n",
    "lista_ubicacion = []\n",
    "\n",
    "# Iteramos por los elementos de la tabla\n",
    "for elemento in info_ubicacion:\n",
    "    ul_elemento = elemento.find_all('ul')\n",
    "    \n",
    "    for ul in ul_elemento:\n",
    "        li_elemento = ul.find_all('li')\n",
    "\n",
    "        for li in li_elemento:\n",
    "            # Verifica si el elemento 'li' contiene la cadena \"ubicacion\"\n",
    "            if \"Donde se realizan\" in li.get_text():\n",
    "                ubicacion_texto = li.get_text().replace(\"\\xa0\", \" \")  # Reemplaza \"\\xa0\" con un espacio en blanco\n",
    "                ubicacion_texto = ubicacion_texto.replace(\"Donde se realizan:\", \"\")  # Elimina \"Donde se realizan\"\n",
    "                lista_ubicacion.append(ubicacion_texto)\n",
    "\n",
    "lista_ubicacion"
   ]
  },
  {
   "cell_type": "code",
   "execution_count": 74,
   "metadata": {},
   "outputs": [
    {
     "data": {
      "text/plain": [
       "['circular.',\n",
       " 'Ida y vuelta.',\n",
       " 'Ida y vuelta.',\n",
       " 'Ida y vuelta.',\n",
       " 'Ida y vuelta.',\n",
       " 'Ida y vuelta. (Posibilidad de circular por la Dehesa)',\n",
       " 'circular.',\n",
       " 'Ida y vuelta.',\n",
       " 'Circular',\n",
       " 'Ida y vuelta.',\n",
       " 'Ida y vuelta.']"
      ]
     },
     "execution_count": 74,
     "metadata": {},
     "output_type": "execute_result"
    }
   ],
   "source": [
    "info_ruta = sopa_turismo.find_all('div', {'class': \"elementor-widget-container\"})\n",
    "lista_ruta = []\n",
    "\n",
    "# Iteramos por los elementos de la tabla\n",
    "for elemento in info_ruta:\n",
    "    ul_elemento = elemento.find_all('ul')\n",
    "\n",
    "    for ul in ul_elemento:\n",
    "        li_elemento = ul.find_all('li')\n",
    "\n",
    "        for li in li_elemento:\n",
    "            # Verifica si el elemento 'li' contiene la cadena \"Tipo de ruta\"\n",
    "            if \"Tipo de ruta\" in li.get_text():\n",
    "                texto_ruta = li.get_text().replace(\"\\xa0\", \" \")  # Reemplaza \"\\xa0\" con un espacio en blanco\n",
    "                texto_ruta = texto_ruta.split(\"Tipo de ruta:\")[1].strip()  # Divide la cadena y toma la segunda parte sin espacios en blanco\n",
    "                lista_ruta.append(texto_ruta)\n",
    "\n",
    "lista_ruta\n"
   ]
  },
  {
   "cell_type": "code",
   "execution_count": 79,
   "metadata": {},
   "outputs": [
    {
     "data": {
      "text/plain": [
       "[' 4 horas.',\n",
       " ' 7 horas.',\n",
       " ' 14 horas.',\n",
       " ' 5 horas.',\n",
       " ' 9 horas.',\n",
       " ' 7 horas.',\n",
       " ' 8 horas.',\n",
       " ' 7 horas.',\n",
       " ' 2 días, una noche.',\n",
       " ' 8 horas.',\n",
       " ' 8 horas.']"
      ]
     },
     "execution_count": 79,
     "metadata": {},
     "output_type": "execute_result"
    }
   ],
   "source": [
    "info_duracion = sopa_turismo.find_all('div', {'class': \"elementor-widget-container\"})\n",
    "lista_duracion = []\n",
    "\n",
    "# Iteramos por los elementos de la tabla\n",
    "for elemento in info_duracion:\n",
    "    ul_elemento = elemento.find_all('ul')\n",
    "\n",
    "    for ul in ul_elemento:\n",
    "        li_elemento = ul.find_all('li')\n",
    "\n",
    "        for li in li_elemento:\n",
    "            # Verifica si el elemento 'li' contiene la cadena \"Duración\"\n",
    "            if \"Duración\" in li.get_text():\n",
    "                texto_duracion = li.get_text().replace(\"\\xa0\", \" \")  # Reemplaza \"\\xa0\" con un espacio en blanco\n",
    "                texto_duracion = texto_duracion.replace(\"Duración:\", \"\")  # Elimina \"Donde se realizan\"\n",
    "                lista_duracion.append(texto_duracion)\n",
    "\n",
    "lista_duracion"
   ]
  },
  {
   "cell_type": "code",
   "execution_count": 84,
   "metadata": {},
   "outputs": [
    {
     "data": {
      "text/plain": [
       "[' 10', ' 12', ' 25', ' 8  ', ' 14  ', ' 21']"
      ]
     },
     "execution_count": 84,
     "metadata": {},
     "output_type": "execute_result"
    }
   ],
   "source": [
    "info_km = sopa_turismo.find_all('div', {'class': \"elementor-widget-container\"})\n",
    "lista_km = []\n",
    "\n",
    "# Iteramos por los elementos de la tabla\n",
    "for elemento in info_km:\n",
    "    ul_elemento = elemento.find_all('ul')\n",
    "\n",
    "    for ul in ul_elemento:\n",
    "        li_elemento = ul.find_all('li')\n",
    "\n",
    "        for li in li_elemento:\n",
    "            # Verifica si el elemento 'li' contiene la cadena \"km\"\n",
    "            if \"Km\" in li.get_text():\n",
    "                texto_km = li.get_text().replace(\"km.\", \" \")  # Reemplaza \"\\xa0\" con un espacio en blanco\n",
    "                texto_km = texto_km.replace(\"Km:\", \"\")  # Elimina \"Km\"\n",
    "                lista_km.append(texto_km)\n",
    "\n",
    "lista_km"
   ]
  },
  {
   "cell_type": "code",
   "execution_count": 86,
   "metadata": {},
   "outputs": [
    {
     "data": {
      "text/plain": [
       "[' Media. (Dependerá de la estación del año).',\n",
       " ' Alta. (Dependerá de la estación del año).',\n",
       " ' baja. (Dependerá de la estación del año).',\n",
       " ' media. (Dependerá de la estación del año).',\n",
       " ' Media. (Dependerá de la estación del año).',\n",
       " ' baja',\n",
       " ' baja – media',\n",
       " ' medio. (Dependerá de la estación del año).',\n",
       " ' baja. (Dependerá de la estación del año).',\n",
       " ' alta. (Dependerá de la estación del año).',\n",
       " ' baja. (Dependerá de la estación del año).',\n",
       " ' medio. (Dependerá de la estación del año).']"
      ]
     },
     "execution_count": 86,
     "metadata": {},
     "output_type": "execute_result"
    }
   ],
   "source": [
    "info_dificultad = sopa_turismo.find_all('div', {'class': \"elementor-widget-container\"})\n",
    "lista_dificultad = []\n",
    "\n",
    "# Iteramos por los elementos de la tabla\n",
    "for elemento in info_dificultad:\n",
    "    ul_elemento = elemento.find_all('ul')\n",
    "\n",
    "    for ul in ul_elemento:\n",
    "        li_elemento = ul.find_all('li')\n",
    "\n",
    "        for li in li_elemento:\n",
    "            # Verifica si el elemento 'li' contiene la cadena \"Dificultad técnica\"\n",
    "            if \"Dificultad técnica\" in li.get_text():\n",
    "                texto_dificultad = li.get_text().replace(\"\\xa0\", \" \")  # Reemplaza \"\\xa0\" con un espacio en blanco\n",
    "                texto_dificultad = texto_dificultad.replace(\"Dificultad técnica:\", \"\")  # Elimina \"Km\"\n",
    "                lista_dificultad.append(texto_dificultad)\n",
    "\n",
    "lista_dificultad"
   ]
  },
  {
   "cell_type": "code",
   "execution_count": 87,
   "metadata": {},
   "outputs": [
    {
     "data": {
      "text/plain": [
       "[' bajo – medio',\n",
       " ' Medio',\n",
       " ' Alto',\n",
       " ' Bajo – medio.',\n",
       " ' alto',\n",
       " ' medio.',\n",
       " ' bajo',\n",
       " ' Medio',\n",
       " ' Alto',\n",
       " ' medio.',\n",
       " ' Muy alto',\n",
       " ' Alto',\n",
       " ' Alto']"
      ]
     },
     "execution_count": 87,
     "metadata": {},
     "output_type": "execute_result"
    }
   ],
   "source": [
    "info_esfuerzo = sopa_turismo.find_all('div', {'class': \"elementor-widget-container\"})\n",
    "lista_esfuerzo = []\n",
    "\n",
    "# Iteramos por los elementos de la tabla\n",
    "for elemento in info_esfuerzo:\n",
    "    ul_elemento = elemento.find_all('ul')\n",
    "\n",
    "    for ul in ul_elemento:\n",
    "        li_elemento = ul.find_all('li')\n",
    "\n",
    "        for li in li_elemento:\n",
    "            # Verifica si el elemento 'li' contiene la cadena \"Esfuerzo\"\n",
    "            if \"Esfuerzo\" in li.get_text():\n",
    "                texto_esfuerzo = li.get_text().replace(\"\\xa0\", \" \")  # Reemplaza \"\\xa0\" con un espacio en blanco\n",
    "                texto_esfuerzo = texto_esfuerzo.replace(\"Esfuerzo:\", \"\")  # Elimina \"Km\"\n",
    "                lista_esfuerzo.append(texto_esfuerzo)\n",
    "\n",
    "lista_esfuerzo"
   ]
  },
  {
   "cell_type": "code",
   "execution_count": 95,
   "metadata": {},
   "outputs": [],
   "source": [
    "lista_descripcion = []\n",
    "contador = 0\n",
    "for info in sopa_turismo.find_all('div', {'class': 'elementor-widget-container'}):\n",
    "    if contador >= 2:  # Inicia en el tercer div (0-based index)\n",
    "        descripcion = info.find('p')  # Encuentra el primer elemento 'p' dentro de cada div\n",
    "\n",
    "        if descripcion:\n",
    "            texto_descripcion = descripcion.get_text()\n",
    "            lista_descripcion.append(texto_descripcion)\n",
    "            contador += 1\n",
    "\n",
    "        if contador == 12:  # Cuando se alcanzan los primeros 12 elementos, sal del bucle\n",
    "            break\n",
    "\n",
    "    lista_descripcion"
   ]
  },
  {
   "cell_type": "code",
   "execution_count": null,
   "metadata": {},
   "outputs": [],
   "source": [
    "# Supongamos que \"sopa_turismo\" es tu objeto BeautifulSoup\n",
    "lista_descripcion = []\n",
    "contador = 0\n",
    "\n",
    "for info in sopa_turismo.find_all('div', {'class': 'elementor-widget-container'}):\n",
    "    if contador >= 2:  # Inicia en el tercer div (0-based index)\n",
    "        descripcion = info.find('p')  # Encuentra el primer elemento 'p' dentro de cada div\n",
    "\n",
    "        if descripcion:\n",
    "            texto_descripcion = descripcion.get_text()\n",
    "            lista_descripcion.append(texto_descripcion)\n",
    "\n",
    "    contador += 1\n",
    "\n",
    "    if len(lista_descripcion) == 15:  # Cuando se alcanzan los primeros 12 elementos, sal del bucle\n",
    "        break\n",
    "\n",
    "lista_descripcion\n"
   ]
  },
  {
   "cell_type": "code",
   "execution_count": 109,
   "metadata": {},
   "outputs": [
    {
     "ename": "IndexError",
     "evalue": "list index out of range",
     "output_type": "error",
     "traceback": [
      "\u001b[0;31m---------------------------------------------------------------------------\u001b[0m",
      "\u001b[0;31mIndexError\u001b[0m                                Traceback (most recent call last)",
      "\u001b[0;32m/var/folders/2t/rhwkz4g56b7dz56rcgcgt1qc0000gn/T/ipykernel_1194/4008396770.py\u001b[0m in \u001b[0;36m<module>\u001b[0;34m\u001b[0m\n\u001b[1;32m      9\u001b[0m         \u001b[0mdiccionario\u001b[0m\u001b[0;34m[\u001b[0m\u001b[0;34m\"Ruta\"\u001b[0m\u001b[0;34m]\u001b[0m \u001b[0;34m=\u001b[0m \u001b[0mlista_ruta\u001b[0m\u001b[0;34m[\u001b[0m\u001b[0mindice\u001b[0m\u001b[0;34m]\u001b[0m\u001b[0;34m\u001b[0m\u001b[0;34m\u001b[0m\u001b[0m\n\u001b[1;32m     10\u001b[0m         \u001b[0mdiccionario\u001b[0m\u001b[0;34m[\u001b[0m\u001b[0;34m\"Duración\"\u001b[0m\u001b[0;34m]\u001b[0m \u001b[0;34m=\u001b[0m \u001b[0mlista_duracion\u001b[0m\u001b[0;34m[\u001b[0m\u001b[0mindice\u001b[0m\u001b[0;34m]\u001b[0m\u001b[0;34m\u001b[0m\u001b[0;34m\u001b[0m\u001b[0m\n\u001b[0;32m---> 11\u001b[0;31m         \u001b[0mdiccionario\u001b[0m\u001b[0;34m[\u001b[0m\u001b[0;34m\"Km\"\u001b[0m\u001b[0;34m]\u001b[0m \u001b[0;34m=\u001b[0m \u001b[0mlista_km\u001b[0m\u001b[0;34m[\u001b[0m\u001b[0mindice\u001b[0m\u001b[0;34m]\u001b[0m\u001b[0;34m\u001b[0m\u001b[0;34m\u001b[0m\u001b[0m\n\u001b[0m\u001b[1;32m     12\u001b[0m         \u001b[0mdiccionario\u001b[0m\u001b[0;34m[\u001b[0m\u001b[0;34m\"Dificultad\"\u001b[0m\u001b[0;34m]\u001b[0m \u001b[0;34m=\u001b[0m \u001b[0mlista_dificultad\u001b[0m\u001b[0;34m[\u001b[0m\u001b[0mindice\u001b[0m\u001b[0;34m]\u001b[0m\u001b[0;34m\u001b[0m\u001b[0;34m\u001b[0m\u001b[0m\n\u001b[1;32m     13\u001b[0m         \u001b[0mdiccionario\u001b[0m\u001b[0;34m[\u001b[0m\u001b[0;34m\"Esfuerzo\"\u001b[0m\u001b[0;34m]\u001b[0m \u001b[0;34m=\u001b[0m \u001b[0mlista_esfuerzo\u001b[0m\u001b[0;34m[\u001b[0m\u001b[0mindice\u001b[0m\u001b[0;34m]\u001b[0m\u001b[0;34m\u001b[0m\u001b[0;34m\u001b[0m\u001b[0m\n",
      "\u001b[0;31mIndexError\u001b[0m: list index out of range"
     ]
    }
   ],
   "source": [
    "lista_elementos = [nombre_rutas, lista_ubicacion, lista_ruta, lista_duracion, lista_km, lista_dificultad, lista_esfuerzo]\n",
    "lista_diccionarios = []\n",
    "\n",
    "for indice in range(12):  \n",
    "    diccionario = {}\n",
    "    for i, elemento in enumerate(lista_elementos):\n",
    "        diccionario[\"Nombre Ruta\"] = nombre_rutas[indice]\n",
    "        diccionario[\"Ubicación\"] = lista_ubicacion[indice]\n",
    "        diccionario[\"Ruta\"] = lista_ruta[indice]\n",
    "        diccionario[\"Duración\"] = lista_duracion[indice]\n",
    "        diccionario[\"Km\"] = lista_km[indice]\n",
    "        diccionario[\"Dificultad\"] = lista_dificultad[indice]\n",
    "        diccionario[\"Esfuerzo\"] = lista_esfuerzo[indice]\n",
    "    lista_diccionarios.append(diccionario)\n",
    "\n",
    "df = pd.DataFrame(lista_diccionarios)\n"
   ]
  }
 ],
 "metadata": {
  "kernelspec": {
   "display_name": "base",
   "language": "python",
   "name": "python3"
  },
  "language_info": {
   "codemirror_mode": {
    "name": "ipython",
    "version": 3
   },
   "file_extension": ".py",
   "mimetype": "text/x-python",
   "name": "python",
   "nbconvert_exporter": "python",
   "pygments_lexer": "ipython3",
   "version": "3.9.7"
  }
 },
 "nbformat": 4,
 "nbformat_minor": 2
}
